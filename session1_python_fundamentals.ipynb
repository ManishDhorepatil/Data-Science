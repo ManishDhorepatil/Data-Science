{
  "nbformat": 4,
  "nbformat_minor": 0,
  "metadata": {
    "colab": {
      "provenance": []
    },
    "kernelspec": {
      "name": "python3",
      "display_name": "Python 3"
    },
    "language_info": {
      "name": "python"
    }
  },
  "cells": [
    {
      "cell_type": "code",
      "execution_count": 3,
      "metadata": {
        "colab": {
          "base_uri": "https://localhost:8080/"
        },
        "id": "WKmutDEd2lR6",
        "outputId": "1d962726-7f3a-47ed-d470-0ac45b915a37"
      },
      "outputs": [
        {
          "output_type": "stream",
          "name": "stdout",
          "text": [
            "hello\n"
          ]
        }
      ],
      "source": [
        "print(\"hello\")\n",
        "#python is a casesensitive languge"
      ]
    },
    {
      "cell_type": "code",
      "source": [
        "print('salaman')"
      ],
      "metadata": {
        "colab": {
          "base_uri": "https://localhost:8080/"
        },
        "id": "wxIEW_du3lMw",
        "outputId": "e5ab9ba2-76a2-45c9-bbb8-591067ee06cb"
      },
      "execution_count": 5,
      "outputs": [
        {
          "output_type": "stream",
          "name": "stdout",
          "text": [
            "salaman\n"
          ]
        }
      ]
    },
    {
      "cell_type": "code",
      "source": [
        "print(salaman)  # bc it is string so \"\"'' necessary"
      ],
      "metadata": {
        "colab": {
          "base_uri": "https://localhost:8080/",
          "height": 165
        },
        "id": "uAmzN27L3u-F",
        "outputId": "4215d575-6814-4dad-dabf-59793df9296d"
      },
      "execution_count": 8,
      "outputs": [
        {
          "output_type": "error",
          "ename": "NameError",
          "evalue": "ignored",
          "traceback": [
            "\u001b[0;31m---------------------------------------------------------------------------\u001b[0m",
            "\u001b[0;31mNameError\u001b[0m                                 Traceback (most recent call last)",
            "\u001b[0;32m<ipython-input-8-321591b0e33f>\u001b[0m in \u001b[0;36m<cell line: 1>\u001b[0;34m()\u001b[0m\n\u001b[0;32m----> 1\u001b[0;31m \u001b[0mprint\u001b[0m\u001b[0;34m(\u001b[0m\u001b[0msalaman\u001b[0m\u001b[0;34m)\u001b[0m  \u001b[0;31m# bc it is string\u001b[0m\u001b[0;34m\u001b[0m\u001b[0;34m\u001b[0m\u001b[0m\n\u001b[0m",
            "\u001b[0;31mNameError\u001b[0m: name 'salaman' is not defined"
          ]
        }
      ]
    },
    {
      "cell_type": "code",
      "source": [
        "print(2)"
      ],
      "metadata": {
        "colab": {
          "base_uri": "https://localhost:8080/"
        },
        "id": "gHNrm3xG4AWP",
        "outputId": "25999a91-a7d1-49e9-9a4b-c31b76f58773"
      },
      "execution_count": 9,
      "outputs": [
        {
          "output_type": "stream",
          "name": "stdout",
          "text": [
            "2\n"
          ]
        }
      ]
    },
    {
      "cell_type": "code",
      "source": [
        "print('hello',2,2.4,True)"
      ],
      "metadata": {
        "colab": {
          "base_uri": "https://localhost:8080/"
        },
        "id": "rIyERCr24GGV",
        "outputId": "60429614-e190-4969-b4a8-0fb7ba4bd991"
      },
      "execution_count": 11,
      "outputs": [
        {
          "output_type": "stream",
          "name": "stdout",
          "text": [
            "hello 2 2.4 True\n"
          ]
        }
      ]
    },
    {
      "cell_type": "code",
      "source": [
        "print('hello',2,2.4,True,sep='/') # sepreator in python default is space"
      ],
      "metadata": {
        "colab": {
          "base_uri": "https://localhost:8080/"
        },
        "id": "Uw2-NSvl4Yi7",
        "outputId": "ec46b414-acb3-4b54-d9ec-f21b471316b5"
      },
      "execution_count": 12,
      "outputs": [
        {
          "output_type": "stream",
          "name": "stdout",
          "text": [
            "hello/2/2.4/True\n"
          ]
        }
      ]
    },
    {
      "cell_type": "code",
      "source": [
        "print('hello')\n",
        "print('mandhor')"
      ],
      "metadata": {
        "colab": {
          "base_uri": "https://localhost:8080/"
        },
        "id": "Ugu8IEpH44LO",
        "outputId": "69493f68-ae1e-49e6-8c5c-1e2d3994edab"
      },
      "execution_count": 13,
      "outputs": [
        {
          "output_type": "stream",
          "name": "stdout",
          "text": [
            "hello\n",
            "mandhor\n"
          ]
        }
      ]
    },
    {
      "cell_type": "code",
      "source": [
        "print('hello',end='-')\n",
        "print('world')"
      ],
      "metadata": {
        "colab": {
          "base_uri": "https://localhost:8080/"
        },
        "id": "cjsPCDvL5As0",
        "outputId": "b4a3ea87-c249-4e0e-e3f4-3c3322b7895a"
      },
      "execution_count": 14,
      "outputs": [
        {
          "output_type": "stream",
          "name": "stdout",
          "text": [
            "hello-world\n"
          ]
        }
      ]
    },
    {
      "cell_type": "markdown",
      "source": [
        "Data Types\n"
      ],
      "metadata": {
        "id": "ngdcl6jN3cNd"
      }
    },
    {
      "cell_type": "code",
      "source": [
        "#integer\n",
        "print(7)\n",
        "# 1*10*308\n",
        "print(1e308)"
      ],
      "metadata": {
        "colab": {
          "base_uri": "https://localhost:8080/"
        },
        "id": "95KVgZan3gc3",
        "outputId": "0eb927c2-830a-4c21-beb1-cb96f39cb57d"
      },
      "execution_count": 17,
      "outputs": [
        {
          "output_type": "stream",
          "name": "stdout",
          "text": [
            "7\n",
            "1e+308\n"
          ]
        }
      ]
    },
    {
      "cell_type": "code",
      "source": [
        "#Decimal -float\n",
        "print(6.66)\n",
        "print(1.7e308)"
      ],
      "metadata": {
        "colab": {
          "base_uri": "https://localhost:8080/"
        },
        "id": "sfAsTG5SCd_T",
        "outputId": "38be9a81-33a3-45e4-aee2-abe163069c62"
      },
      "execution_count": 19,
      "outputs": [
        {
          "output_type": "stream",
          "name": "stdout",
          "text": [
            "6.66\n",
            "1.7e+308\n"
          ]
        }
      ]
    },
    {
      "cell_type": "code",
      "source": [
        "#boolean\n",
        "print(True)\n",
        "print(False)\n"
      ],
      "metadata": {
        "colab": {
          "base_uri": "https://localhost:8080/"
        },
        "id": "FQeYG68mC8HH",
        "outputId": "ed627efe-7bda-4a5b-8600-1111ec0cf671"
      },
      "execution_count": 21,
      "outputs": [
        {
          "output_type": "stream",
          "name": "stdout",
          "text": [
            "True\n",
            "False\n"
          ]
        }
      ]
    },
    {
      "cell_type": "code",
      "source": [
        "#text / string\n",
        "print('hello world')"
      ],
      "metadata": {
        "colab": {
          "base_uri": "https://localhost:8080/"
        },
        "id": "crLtOLZQDNuv",
        "outputId": "ee73471b-e1db-489c-aaef-b81536b0cc23"
      },
      "execution_count": 22,
      "outputs": [
        {
          "output_type": "stream",
          "name": "stdout",
          "text": [
            "hello world\n"
          ]
        }
      ]
    },
    {
      "cell_type": "code",
      "source": [
        "#complex\n",
        "print(5+6j)"
      ],
      "metadata": {
        "colab": {
          "base_uri": "https://localhost:8080/"
        },
        "id": "DRPGCjomDUpN",
        "outputId": "cf115a7e-4b42-472f-8fcc-a488f46f3386"
      },
      "execution_count": 23,
      "outputs": [
        {
          "output_type": "stream",
          "name": "stdout",
          "text": [
            "(5+6j)\n"
          ]
        }
      ]
    },
    {
      "cell_type": "code",
      "source": [
        "#list-> c->array\n",
        "print([1,2,3,4,5])"
      ],
      "metadata": {
        "colab": {
          "base_uri": "https://localhost:8080/"
        },
        "id": "sxofTHqIDZ9N",
        "outputId": "b08225d7-d2a8-47c3-f106-b389da90bafc"
      },
      "execution_count": 24,
      "outputs": [
        {
          "output_type": "stream",
          "name": "stdout",
          "text": [
            "[1, 2, 3, 4, 5]\n"
          ]
        }
      ]
    },
    {
      "cell_type": "code",
      "source": [
        "#tuple\n",
        "print((1,2,3,4))"
      ],
      "metadata": {
        "colab": {
          "base_uri": "https://localhost:8080/"
        },
        "id": "yh8IjmYtDjaw",
        "outputId": "3a027f67-0ca4-48fb-8805-86b014fc8dfc"
      },
      "execution_count": 25,
      "outputs": [
        {
          "output_type": "stream",
          "name": "stdout",
          "text": [
            "(1, 2, 3, 4)\n"
          ]
        }
      ]
    },
    {
      "cell_type": "code",
      "source": [
        "#sets\n",
        "print({1,2,3,4,5})"
      ],
      "metadata": {
        "colab": {
          "base_uri": "https://localhost:8080/"
        },
        "id": "K7DNiQO3DpMy",
        "outputId": "fe195f8c-09d0-474e-c7ac-802c7094fde8"
      },
      "execution_count": 26,
      "outputs": [
        {
          "output_type": "stream",
          "name": "stdout",
          "text": [
            "{1, 2, 3, 4, 5}\n"
          ]
        }
      ]
    },
    {
      "cell_type": "code",
      "source": [
        "#Dictionary- key-valuepairs\n",
        "print({'name':'manish','gender':'male'})"
      ],
      "metadata": {
        "colab": {
          "base_uri": "https://localhost:8080/"
        },
        "id": "CsXfdvBMDunP",
        "outputId": "d420307b-c7c3-4564-b07e-4b688da9897e"
      },
      "execution_count": 29,
      "outputs": [
        {
          "output_type": "stream",
          "name": "stdout",
          "text": [
            "{'name': 'manish', 'gender': 'male'}\n"
          ]
        }
      ]
    },
    {
      "cell_type": "code",
      "source": [
        "#type\n",
        "type(3)\n",
        "type(3.5)"
      ],
      "metadata": {
        "colab": {
          "base_uri": "https://localhost:8080/"
        },
        "id": "0bq8LWKcE7Dd",
        "outputId": "7d227efb-9b49-4ef6-fbd1-76987e157f5c"
      },
      "execution_count": 31,
      "outputs": [
        {
          "output_type": "execute_result",
          "data": {
            "text/plain": [
              "float"
            ]
          },
          "metadata": {},
          "execution_count": 31
        }
      ]
    },
    {
      "cell_type": "markdown",
      "source": [
        "3. Variables\n"
      ],
      "metadata": {
        "id": "S-u8V_AdEJZT"
      }
    },
    {
      "cell_type": "code",
      "source": [
        "#static vs Dynamic typing\n",
        "#static vs Dynamic Binding\n",
        "#Stylish delecration techniques\n",
        "#variables are containers usedfor further use\n"
      ],
      "metadata": {
        "id": "PsijF_ikEQAd"
      },
      "execution_count": null,
      "outputs": []
    },
    {
      "cell_type": "code",
      "source": [
        "\n",
        "#c/c++\n",
        "#int Name = 'manish';\n",
        "#python\n",
        "name= 'manish'\n",
        "print(name)\n",
        "\n",
        "a=5\n",
        "b=6\n",
        "print(a+b)"
      ],
      "metadata": {
        "colab": {
          "base_uri": "https://localhost:8080/"
        },
        "id": "vR3Y9whDFocA",
        "outputId": "9bf48855-edaf-4d9a-f098-0b53034e0f2a"
      },
      "execution_count": 33,
      "outputs": [
        {
          "output_type": "stream",
          "name": "stdout",
          "text": [
            "manish\n",
            "11\n"
          ]
        }
      ]
    },
    {
      "cell_type": "code",
      "source": [
        "#Dynamic typing - do not specify the datatype associated with the variable\n",
        "a=5\n",
        "#static typing\n",
        "int a=5;\n",
        "#python supports dynamic typing"
      ],
      "metadata": {
        "id": "kcDpaZzwGNW_"
      },
      "execution_count": null,
      "outputs": []
    },
    {
      "cell_type": "code",
      "source": [
        "#dynamic binding- The variable can hold diffrent datatype can change any time.\n",
        "a=5\n",
        "print(a)\n",
        "a='nitish'\n",
        "print(a)"
      ],
      "metadata": {
        "colab": {
          "base_uri": "https://localhost:8080/"
        },
        "id": "-kBqPjsBGpRY",
        "outputId": "a46b4020-d488-41f1-b808-f45edf330f76"
      },
      "execution_count": 34,
      "outputs": [
        {
          "output_type": "stream",
          "name": "stdout",
          "text": [
            "5\n",
            "nitish\n"
          ]
        }
      ]
    },
    {
      "cell_type": "code",
      "source": [
        "#Stylish delecration techniques\n",
        "a,b,c=1,2,3\n",
        "print(a,b,c)"
      ],
      "metadata": {
        "colab": {
          "base_uri": "https://localhost:8080/"
        },
        "id": "_-s5sOdRHJ46",
        "outputId": "9d17fc8b-9184-48a5-c49a-b2a3370cd906"
      },
      "execution_count": 35,
      "outputs": [
        {
          "output_type": "stream",
          "name": "stdout",
          "text": [
            "1 2 3\n"
          ]
        }
      ]
    },
    {
      "cell_type": "code",
      "source": [
        "a=b=c=5\n",
        "print(a,b,c)"
      ],
      "metadata": {
        "colab": {
          "base_uri": "https://localhost:8080/"
        },
        "id": "OOZk1j7vHXyu",
        "outputId": "795f05fa-ac8e-4a84-b086-d188289726c6"
      },
      "execution_count": 36,
      "outputs": [
        {
          "output_type": "stream",
          "name": "stdout",
          "text": [
            "5 5 5\n"
          ]
        }
      ]
    },
    {
      "cell_type": "markdown",
      "source": [
        "4. Keywords & identifiers"
      ],
      "metadata": {
        "id": "0fQtFtK2IWFX"
      }
    },
    {
      "cell_type": "code",
      "source": [
        "# keywords 32 keywords in python eg if,else\n",
        "print(print)\n"
      ],
      "metadata": {
        "colab": {
          "base_uri": "https://localhost:8080/"
        },
        "id": "GVMtth-RIbyo",
        "outputId": "1b4b49d8-2e63-4066-8ccb-673b556cf9ca"
      },
      "execution_count": 38,
      "outputs": [
        {
          "output_type": "stream",
          "name": "stdout",
          "text": [
            "<built-in function print>\n"
          ]
        }
      ]
    },
    {
      "cell_type": "code",
      "source": [
        "# Identifiers\n",
        "#1 you can not start with a digit\n",
        "name1='nitisj'\n",
        "print(name1)\n",
        "#2 you can use special chars - underscore\n",
        "_name='manish'\n",
        "print(_name)\n",
        "#3 identifiers can not be keywords"
      ],
      "metadata": {
        "colab": {
          "base_uri": "https://localhost:8080/"
        },
        "id": "DISk5XfuHxko",
        "outputId": "3f7591b1-856c-439b-e6f0-d5b2837b249f"
      },
      "execution_count": 42,
      "outputs": [
        {
          "output_type": "stream",
          "name": "stdout",
          "text": [
            "nitisj\n",
            "manish\n"
          ]
        }
      ]
    },
    {
      "cell_type": "markdown",
      "source": [
        "#5. User Input\n"
      ],
      "metadata": {
        "id": "DwFoNWXlPpHg"
      }
    },
    {
      "cell_type": "code",
      "source": [
        "#static vs Dynamic software\n",
        " #input funtion\n",
        "input('Enter Email')"
      ],
      "metadata": {
        "colab": {
          "base_uri": "https://localhost:8080/",
          "height": 53
        },
        "id": "2WuPBYZaPr4e",
        "outputId": "02e1498e-1ef6-4364-bd3e-d8626d971304"
      },
      "execution_count": 48,
      "outputs": [
        {
          "name": "stdout",
          "output_type": "stream",
          "text": [
            "Enter Emailman@gmail.com\n"
          ]
        },
        {
          "output_type": "execute_result",
          "data": {
            "text/plain": [
              "'man@gmail.com'"
            ],
            "application/vnd.google.colaboratory.intrinsic+json": {
              "type": "string"
            }
          },
          "metadata": {},
          "execution_count": 48
        }
      ]
    },
    {
      "cell_type": "code",
      "source": [
        "#take input from users and store them in variable\n",
        "fnum=input('enter 1 no')\n",
        "snum=input('enter 2 no')\n",
        "print(type(fnum),type(snum))\n",
        "#add the 2 variables\n",
        "result=fnum+snum\n",
        "#print the result\n",
        "print(result)"
      ],
      "metadata": {
        "colab": {
          "base_uri": "https://localhost:8080/"
        },
        "id": "bygbZLlWQvLD",
        "outputId": "96c306bf-4888-4135-c560-34172ec1372f"
      },
      "execution_count": 52,
      "outputs": [
        {
          "output_type": "stream",
          "name": "stdout",
          "text": [
            "enter 1 no56\n",
            "enter 2 no67\n",
            "<class 'str'> <class 'str'>\n",
            "5667\n"
          ]
        }
      ]
    },
    {
      "cell_type": "markdown",
      "source": [
        "#6. Type Conversion"
      ],
      "metadata": {
        "id": "Fhdb2PxqS2Rn"
      }
    },
    {
      "cell_type": "code",
      "source": [
        " #implicit vs explicit\n",
        " #implicit type-\n",
        " print(5+5.6)\n",
        " print(type(5),type(5.6))\n",
        "\n",
        " #print(4+'4')  #use explict type here\n"
      ],
      "metadata": {
        "colab": {
          "base_uri": "https://localhost:8080/"
        },
        "id": "zRc9Te5GS9Mb",
        "outputId": "d9bbdd91-ad20-46c1-e149-27757d838fa2"
      },
      "execution_count": 59,
      "outputs": [
        {
          "output_type": "stream",
          "name": "stdout",
          "text": [
            "10.6\n",
            "<class 'int'> <class 'float'>\n"
          ]
        }
      ]
    },
    {
      "cell_type": "code",
      "source": [
        "#explict type\n",
        "#str -> int\n",
        "type(int('4'))\n",
        "# can not convert complex no to int\n",
        "\n",
        "#int to string\n",
        "str(5)\n",
        "\n",
        "# float\n",
        "float(4)"
      ],
      "metadata": {
        "colab": {
          "base_uri": "https://localhost:8080/"
        },
        "id": "ETUygzBHTkOo",
        "outputId": "3ac868b2-8831-4369-d2d7-790c06aa5038"
      },
      "execution_count": 61,
      "outputs": [
        {
          "output_type": "execute_result",
          "data": {
            "text/plain": [
              "4.0"
            ]
          },
          "metadata": {},
          "execution_count": 61
        }
      ]
    },
    {
      "cell_type": "code",
      "source": [
        "#take input from users and store them in variable\n",
        "fnum=input('enter 1 no')\n",
        "snum=input('enter 2 no')\n",
        "print(type(fnum),type(snum))\n",
        "#add the 2 variables\n",
        "result=int(fnum)+int(snum)  # type conversion from str to int(it does not change the datatype it create anohter datatype)\n",
        "#print the result\n",
        "print(result)\n",
        "print(type(fnum)) ### imp (it does not change the original datatype here fnum will the string only)"
      ],
      "metadata": {
        "colab": {
          "base_uri": "https://localhost:8080/"
        },
        "id": "qy29y5QqUWts",
        "outputId": "c2efbe15-59e1-4cdf-bfd9-66db1d44fab7"
      },
      "execution_count": 64,
      "outputs": [
        {
          "output_type": "stream",
          "name": "stdout",
          "text": [
            "enter 1 no4\n",
            "enter 2 no4\n",
            "<class 'str'> <class 'str'>\n",
            "8\n",
            "<class 'str'>\n"
          ]
        }
      ]
    },
    {
      "cell_type": "markdown",
      "source": [
        "#7. Literals"
      ],
      "metadata": {
        "id": "cLUj_DLlV9HA"
      }
    },
    {
      "cell_type": "code",
      "source": [
        "# raw values in variables is literals\n",
        "a= 0b1010 #binary literals\n",
        "b= 100 #decimal literals\n",
        "c=0o310 #octal literals\n",
        "d=0x12c #hexadecimal literals\n",
        "print(a,b,c,d)\n",
        "#flaot literals\n",
        "float_1=10.5\n",
        "float_2=1.5e2\n",
        "print(float_2)\n",
        "\n",
        "#complex literals\n",
        "x=3.14j\n",
        "print(x,x.imag,x.real)"
      ],
      "metadata": {
        "colab": {
          "base_uri": "https://localhost:8080/"
        },
        "id": "kKbOzlKQWAFi",
        "outputId": "01dbde45-d514-4c89-b28b-8a49ff9504cb"
      },
      "execution_count": 72,
      "outputs": [
        {
          "output_type": "stream",
          "name": "stdout",
          "text": [
            "10 100 200 300\n",
            "150.0\n",
            "3.14j 3.14 0.0\n"
          ]
        }
      ]
    },
    {
      "cell_type": "code",
      "source": [
        "#string literals\n",
        "string=\"mantu\"\n",
        "strings='mantu'\n",
        "char = \"c\"\n",
        "multiline_str= \"\"\" this is multiline\"\"\"\n",
        "#unicode=u\"\\u0\"\n",
        "raw_str=r\"raw\\nstring\"\n",
        "print(string)\n",
        "print(strings)\n",
        "print(char)\n",
        "print(multiline_str)\n",
        "print(raw_str)\n"
      ],
      "metadata": {
        "colab": {
          "base_uri": "https://localhost:8080/"
        },
        "id": "7dc8jFJ-Xh2V",
        "outputId": "0d35af06-fdf8-4a4f-d8e2-b49d5460ab02"
      },
      "execution_count": 76,
      "outputs": [
        {
          "output_type": "stream",
          "name": "stdout",
          "text": [
            "mantu\n",
            "mantu\n",
            "c\n",
            " this is multiline\n",
            "raw\\nstring\n"
          ]
        }
      ]
    },
    {
      "cell_type": "code",
      "source": [
        "#boolean literals\n",
        "a=True+2\n",
        "b=False+10\n",
        "print(a,b)"
      ],
      "metadata": {
        "colab": {
          "base_uri": "https://localhost:8080/"
        },
        "id": "_olSr1HBYewg",
        "outputId": "c95cf789-d1af-4a1d-d82d-65237b32c108"
      },
      "execution_count": 78,
      "outputs": [
        {
          "output_type": "stream",
          "name": "stdout",
          "text": [
            "3 10\n"
          ]
        }
      ]
    },
    {
      "cell_type": "code",
      "source": [
        "a=None\n",
        "print(a)"
      ],
      "metadata": {
        "colab": {
          "base_uri": "https://localhost:8080/"
        },
        "id": "ua_C2uz0YtT1",
        "outputId": "5aab0254-dec2-43ab-a6c4-8c2ddee22dbb"
      },
      "execution_count": 79,
      "outputs": [
        {
          "output_type": "stream",
          "name": "stdout",
          "text": [
            "None\n"
          ]
        }
      ]
    },
    {
      "cell_type": "markdown",
      "source": [
        "#8. Operators"
      ],
      "metadata": {
        "id": "PYf26qTZY3cW"
      }
    },
    {
      "cell_type": "code",
      "source": [
        "#arithmetic\n",
        "#relational\n",
        "#logical\n",
        "#bitwise\n",
        "#assignment\n",
        "#membership"
      ],
      "metadata": {
        "id": "HMMw9hDRY8af"
      },
      "execution_count": null,
      "outputs": []
    },
    {
      "cell_type": "code",
      "source": [],
      "metadata": {
        "id": "EBGbHz8wY6Pz"
      },
      "execution_count": null,
      "outputs": []
    }
  ]
}