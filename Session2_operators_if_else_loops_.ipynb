{
  "nbformat": 4,
  "nbformat_minor": 0,
  "metadata": {
    "colab": {
      "provenance": []
    },
    "kernelspec": {
      "name": "python3",
      "display_name": "Python 3"
    },
    "language_info": {
      "name": "python"
    }
  },
  "cells": [
    {
      "cell_type": "markdown",
      "source": [
        "#Operators\n"
      ],
      "metadata": {
        "id": "9XukM90u3l-g"
      }
    },
    {
      "cell_type": "code",
      "source": [
        "#arithmetic operator\n",
        "print(6+5)\n",
        "print(5-3)\n",
        "print(5*5)\n",
        "print(6/7)\n",
        "print(5//4)\n",
        "print(4%3)\n",
        "print(5**2)\n"
      ],
      "metadata": {
        "colab": {
          "base_uri": "https://localhost:8080/"
        },
        "id": "y9RGY2Nx3uLw",
        "outputId": "070e18cb-a9a0-4d83-ebdf-9dcbed963032"
      },
      "execution_count": null,
      "outputs": [
        {
          "output_type": "stream",
          "name": "stdout",
          "text": [
            "11\n",
            "2\n",
            "25\n",
            "0.8571428571428571\n",
            "1\n",
            "1\n",
            "25\n"
          ]
        }
      ]
    },
    {
      "cell_type": "code",
      "source": [
        "#relational opertor\n",
        "print(4>5)\n",
        "print(4>=9)\n",
        "print(4<=5)\n",
        "print(4==4)\n",
        "print(4!=6)\n"
      ],
      "metadata": {
        "colab": {
          "base_uri": "https://localhost:8080/"
        },
        "id": "ihWWuQvk4K64",
        "outputId": "2a08dff6-ff9d-456d-baf0-f6a777cbec38"
      },
      "execution_count": null,
      "outputs": [
        {
          "output_type": "stream",
          "name": "stdout",
          "text": [
            "False\n",
            "False\n",
            "True\n",
            "True\n",
            "True\n"
          ]
        }
      ]
    },
    {
      "cell_type": "code",
      "source": [
        "#logical operator\n",
        "print(1 and 0)\n",
        "\n",
        "print(1 and 1)"
      ],
      "metadata": {
        "colab": {
          "base_uri": "https://localhost:8080/"
        },
        "id": "9Ote58vZ4dVo",
        "outputId": "58990ec4-46eb-4eae-d73f-770e98678549"
      },
      "execution_count": null,
      "outputs": [
        {
          "output_type": "stream",
          "name": "stdout",
          "text": [
            "0\n",
            "1\n"
          ]
        }
      ]
    },
    {
      "cell_type": "code",
      "source": [
        "#bitwise operator\n",
        "# bitwise and\n",
        "print(2&3)\n",
        "\n",
        "# bitwise or\n",
        "print(2|3)\n",
        "\n",
        "#bitwise XOR\n",
        "print(2^3)\n",
        "\n",
        "#bitwie not\n",
        "print(~2)"
      ],
      "metadata": {
        "colab": {
          "base_uri": "https://localhost:8080/"
        },
        "id": "ROFYxQbS4qff",
        "outputId": "ead9e28a-36f6-4e0a-92f0-9a7ffd0e7b4b"
      },
      "execution_count": null,
      "outputs": [
        {
          "output_type": "stream",
          "name": "stdout",
          "text": [
            "2\n",
            "3\n",
            "1\n",
            "-3\n"
          ]
        }
      ]
    },
    {
      "cell_type": "code",
      "source": [
        "#assignment operator\n",
        "a=1\n",
        "a=a+2\n",
        "a+=2\n",
        "print(a)\n",
        "# a++ ++a is not allowed in python"
      ],
      "metadata": {
        "colab": {
          "base_uri": "https://localhost:8080/"
        },
        "id": "MU-meOWO6AUI",
        "outputId": "c3d3ba09-d72e-4570-ef21-b18bbdff80f0"
      },
      "execution_count": 1,
      "outputs": [
        {
          "output_type": "stream",
          "name": "stdout",
          "text": [
            "3\n"
          ]
        }
      ]
    },
    {
      "cell_type": "code",
      "source": [
        "#membership operators\n",
        "\n",
        "#in/not in\n",
        "\n",
        "print('D' not in 'Delhi')\n",
        "\n",
        "print(1 in [2,3,4,5])"
      ],
      "metadata": {
        "colab": {
          "base_uri": "https://localhost:8080/"
        },
        "id": "WLKdaRv-SL1P",
        "outputId": "b39d00ec-ca27-4958-d143-7a327ba316c3"
      },
      "execution_count": 4,
      "outputs": [
        {
          "output_type": "stream",
          "name": "stdout",
          "text": [
            "False\n",
            "False\n"
          ]
        }
      ]
    },
    {
      "cell_type": "code",
      "source": [
        "# program -find the sum of 3 digit number entered by user\n",
        "number=int(input('enter a 3 digit number'))\n",
        "a=number%10\n",
        "number=number//10  #interger divison\n",
        "b = number % 10\n",
        "number=number//10\n",
        "c=number%10   #modulus operation\n",
        "number=number//10\n",
        "print(a+b+c)"
      ],
      "metadata": {
        "colab": {
          "base_uri": "https://localhost:8080/"
        },
        "id": "m0mxepv5TT_N",
        "outputId": "10765f35-2ea6-4e73-8c93-75e852983226"
      },
      "execution_count": 12,
      "outputs": [
        {
          "output_type": "stream",
          "name": "stdout",
          "text": [
            "enter a 3 digit number345\n",
            "12\n"
          ]
        }
      ]
    },
    {
      "cell_type": "markdown",
      "source": [
        "# if else"
      ],
      "metadata": {
        "id": "aKFWduasVUmM"
      }
    },
    {
      "cell_type": "code",
      "source": [
        "# login program and identification\n",
        "#email->manish@gmail.com\n",
        "#pass- >1234\n",
        "email=input('enter the email')\n",
        "password=input('enter the password')\n",
        "# python synatx\n",
        "#if condition:\n",
        "  #code\n",
        "#else:\n",
        "  #code\n",
        "\n",
        "if email =='manish@gmail.com' and password == '1234':\n",
        "  print('Welcome')  #intendation important in python\n",
        "elif email=='maish@gmail.com' and password != '1234':\n",
        "  #tell the user\n",
        "  print('invalid password')\n",
        "  password = input('enter password again')\n",
        "  if password=='1234':  #nested if else\n",
        "    print('welcome Finally')\n",
        "  else:\n",
        "    print('beta tumsa na ho peyga')\n",
        "else:\n",
        "  print('Not correct')"
      ],
      "metadata": {
        "colab": {
          "base_uri": "https://localhost:8080/"
        },
        "id": "NJvUtQ07VXaN",
        "outputId": "d55e0975-a0bf-453a-ed4b-cc16bb21aa9a"
      },
      "execution_count": 16,
      "outputs": [
        {
          "output_type": "stream",
          "name": "stdout",
          "text": [
            "enter the emailmaish@gmail.com\n",
            "enter the password796996\n",
            "invalid password\n",
            "enter password again1234\n",
            "welcome Finally\n"
          ]
        }
      ]
    },
    {
      "cell_type": "code",
      "source": [
        "#if else examples\n",
        "# 1.find the min of 3 given numbers\n",
        "# 2.  menu driven program"
      ],
      "metadata": {
        "id": "gYhTX7ZAVmt8"
      },
      "execution_count": null,
      "outputs": []
    },
    {
      "cell_type": "code",
      "source": [
        "#min of 3 numbers\n",
        "a=int(input('first num'))\n",
        "b=int(input('second num'))\n",
        "c=int(input('third num'))\n",
        "\n",
        "if a<b and a<c:\n",
        "  print('smallest is ',a)\n",
        "elif  b<c:\n",
        "  print('smallst is ',b)\n",
        "else:\n",
        "  print('smallest is', c)"
      ],
      "metadata": {
        "colab": {
          "base_uri": "https://localhost:8080/"
        },
        "id": "k8IKgrruaFKp",
        "outputId": "407fc0e8-f2af-4e82-af17-a0a8be414bd0"
      },
      "execution_count": 20,
      "outputs": [
        {
          "output_type": "stream",
          "name": "stdout",
          "text": [
            "first num1\n",
            "second num1\n",
            "third num1\n",
            "smallest is 1\n"
          ]
        }
      ]
    },
    {
      "cell_type": "code",
      "source": [
        "#menu driven program calculator\n",
        "a=int(input('enter the first no '))\n",
        "b=int(input('enter the second no '))\n",
        "\n",
        "op=input('enter the operation')\n",
        "if op =='+':\n",
        "  print(a+b)\n",
        "elif op =='-':\n",
        "  print(a-b)\n",
        "elif op =='*':\n",
        "  print(a*b)\n",
        "else:\n",
        "  print(a/b)\n",
        "\n"
      ],
      "metadata": {
        "colab": {
          "base_uri": "https://localhost:8080/"
        },
        "id": "AP6271JCbKsl",
        "outputId": "c6546c61-5edb-429e-d01a-616eb815b363"
      },
      "execution_count": 23,
      "outputs": [
        {
          "output_type": "stream",
          "name": "stdout",
          "text": [
            "enter the first no 1\n",
            "enter the second no 3\n",
            "enter the operation*\n",
            "3\n"
          ]
        }
      ]
    },
    {
      "cell_type": "code",
      "source": [
        "#menu dreiven atm\n",
        "menu = input(\"\"\"\n",
        "hi how can i help you.\n",
        "1. enter 1 for pin chnage\n",
        "2. enter for balance check\n",
        "3. enter for withdrwal\n",
        "4. enter for exit\"\"\")\n",
        "\n",
        "if menu =='1':\n",
        "  print('pin change')\n",
        "elif menu== '2':\n",
        "  print('balance check')\n",
        "elif menu=='3':\n",
        "  print('withdrwal')\n",
        "else:\n",
        "  print('exit')"
      ],
      "metadata": {
        "colab": {
          "base_uri": "https://localhost:8080/"
        },
        "id": "Sdc6SSsRchaZ",
        "outputId": "464ad6eb-08d7-46db-81b7-29795c960f54"
      },
      "execution_count": 26,
      "outputs": [
        {
          "output_type": "stream",
          "name": "stdout",
          "text": [
            "\n",
            "hi how can i help you.\n",
            "1. enter 1 for pin chnage\n",
            "2. enter for balance check\n",
            "3. enter for withdrwal\n",
            "4. enter for exit4\n",
            "exit\n"
          ]
        }
      ]
    },
    {
      "cell_type": "markdown",
      "source": [
        "#modules in python\n",
        "math,\n",
        "keywords,\n",
        "random,\n",
        "datetime."
      ],
      "metadata": {
        "id": "avFZJSqzdrs0"
      }
    },
    {
      "cell_type": "code",
      "source": [
        "#math   libraries\n",
        "import math\n",
        "math.factorial(5)\n",
        "math.floor(6.8)\n",
        "math.sqrt(196)"
      ],
      "metadata": {
        "colab": {
          "base_uri": "https://localhost:8080/"
        },
        "id": "AEkXGO6Udv-p",
        "outputId": "4f8a0e06-173f-42ea-a509-d45135d65806"
      },
      "execution_count": 30,
      "outputs": [
        {
          "output_type": "execute_result",
          "data": {
            "text/plain": [
              "14.0"
            ]
          },
          "metadata": {},
          "execution_count": 30
        }
      ]
    },
    {
      "cell_type": "code",
      "source": [
        "#keywords\n",
        "import keyword\n",
        "print(keyword.kwlist)"
      ],
      "metadata": {
        "colab": {
          "base_uri": "https://localhost:8080/"
        },
        "id": "J-bUGgMrduEq",
        "outputId": "2b541559-4c20-43e8-d1ef-e052e4c82198"
      },
      "execution_count": 31,
      "outputs": [
        {
          "output_type": "stream",
          "name": "stdout",
          "text": [
            "['False', 'None', 'True', 'and', 'as', 'assert', 'async', 'await', 'break', 'class', 'continue', 'def', 'del', 'elif', 'else', 'except', 'finally', 'for', 'from', 'global', 'if', 'import', 'in', 'is', 'lambda', 'nonlocal', 'not', 'or', 'pass', 'raise', 'return', 'try', 'while', 'with', 'yield']\n"
          ]
        }
      ]
    },
    {
      "cell_type": "code",
      "source": [
        "#random module\n",
        "import random\n",
        "print(random.randint(1,100))"
      ],
      "metadata": {
        "colab": {
          "base_uri": "https://localhost:8080/"
        },
        "id": "QSwAX1yYeu1z",
        "outputId": "814c8660-0c25-4ca6-dec7-0d99ddb387b1"
      },
      "execution_count": 32,
      "outputs": [
        {
          "output_type": "stream",
          "name": "stdout",
          "text": [
            "51\n"
          ]
        }
      ]
    },
    {
      "cell_type": "code",
      "source": [
        "#datetime\n",
        "import datetime\n",
        "print(datetime.datetime.now())"
      ],
      "metadata": {
        "colab": {
          "base_uri": "https://localhost:8080/"
        },
        "id": "E78Mx9jue44R",
        "outputId": "9ed3bfb1-d3a2-48d4-b26a-6d28d937f166"
      },
      "execution_count": 33,
      "outputs": [
        {
          "output_type": "stream",
          "name": "stdout",
          "text": [
            "2023-06-22 05:03:10.165441\n"
          ]
        }
      ]
    },
    {
      "cell_type": "code",
      "source": [
        "help('modules')"
      ],
      "metadata": {
        "id": "WBMq7f_SfGeg"
      },
      "execution_count": null,
      "outputs": []
    },
    {
      "cell_type": "markdown",
      "source": [
        "# Loops in python\n",
        "\n",
        "Nested for loops,\n",
        "While loop,\n",
        "For loop."
      ],
      "metadata": {
        "id": "bR5OZLMSfhdI"
      }
    },
    {
      "cell_type": "code",
      "source": [
        "# while loop example -> program to print the table\n",
        "number=int(input('enter the number'))\n",
        "i=1\n",
        "while i<11:\n",
        "  print(number,'*',i,'=',number*i)\n",
        "  i+=1"
      ],
      "metadata": {
        "colab": {
          "base_uri": "https://localhost:8080/"
        },
        "id": "pjbrgz9-ftRF",
        "outputId": "e038fc87-63ba-48f6-95a9-30cdf6817a35"
      },
      "execution_count": 40,
      "outputs": [
        {
          "output_type": "stream",
          "name": "stdout",
          "text": [
            "enter the number10\n",
            "10 * 1 = 10\n",
            "10 * 2 = 20\n",
            "10 * 3 = 30\n",
            "10 * 4 = 40\n",
            "10 * 5 = 50\n",
            "10 * 6 = 60\n",
            "10 * 7 = 70\n",
            "10 * 8 = 80\n",
            "10 * 9 = 90\n",
            "10 * 10 = 100\n"
          ]
        }
      ]
    },
    {
      "cell_type": "code",
      "source": [
        "# while loop with esle\n",
        "x=1\n",
        "while x<3:\n",
        "  print(x)\n",
        "  x+=1\n",
        "else:\n",
        "  print('limit crossed')\n",
        "\n"
      ],
      "metadata": {
        "colab": {
          "base_uri": "https://localhost:8080/"
        },
        "id": "yuryt3lMftY-",
        "outputId": "de3b34d5-dfc3-46a3-c5e9-68af6bbb14e3"
      },
      "execution_count": 41,
      "outputs": [
        {
          "output_type": "stream",
          "name": "stdout",
          "text": [
            "1\n",
            "2\n",
            "limit crossed\n"
          ]
        },
        {
          "output_type": "stream",
          "name": "stderr",
          "text": [
            "/usr/local/lib/python3.10/dist-packages/ipykernel/ipkernel.py:283: DeprecationWarning: `should_run_async` will not call `transform_cell` automatically in the future. Please pass the result to `transformed_cell` argument and any exception that happen during thetransform in `preprocessing_exc_tuple` in IPython 7.17 and above.\n"
          ]
        }
      ]
    },
    {
      "cell_type": "code",
      "source": [
        "# guessing game\n",
        "\n",
        "#genrate a random integer between 1 and 100\n",
        "import random\n",
        "jackpot=random.randint(1,100)\n",
        "guess = int(input('guess karo'))\n",
        "counter =1\n",
        "while guess!=jackpot:\n",
        " if guess<jackpot:\n",
        "   print('galat guess higher')\n",
        " else:\n",
        "   print('galat guess lower')\n",
        " guess = int(input('guess karo'))\n",
        " counter +=1\n",
        "else:\n",
        "  print('correct guess')\n",
        "  print('attempts',counter)\n",
        "\n"
      ],
      "metadata": {
        "colab": {
          "base_uri": "https://localhost:8080/"
        },
        "id": "2l4p4Xdcfk-2",
        "outputId": "ba47629c-1aae-4263-9d6b-d8968f5dd12f"
      },
      "execution_count": 43,
      "outputs": [
        {
          "output_type": "stream",
          "name": "stdout",
          "text": [
            "guess karo7\n",
            "galat guess higher\n",
            "guess karo8\n",
            "galat guess higher\n",
            "guess karo23\n",
            "galat guess higher\n",
            "guess karo89\n",
            "galat guess lower\n",
            "guess karo80\n",
            "galat guess lower\n",
            "guess karo45\n",
            "galat guess higher\n",
            "guess karo60\n",
            "galat guess higher\n",
            "guess karo70\n",
            "galat guess lower\n",
            "guess karo65\n",
            "galat guess lower\n",
            "guess karo64\n",
            "correct guess\n",
            "attempts 10\n"
          ]
        }
      ]
    },
    {
      "cell_type": "code",
      "source": [
        "# for loops\n",
        "\n",
        "for i in range (1,11,2):  # first included and last excluded here 2 is step size\n",
        "  print(i)\n",
        "for j in range(10,0):\n",
        "  print(j)"
      ],
      "metadata": {
        "colab": {
          "base_uri": "https://localhost:8080/"
        },
        "id": "1TXkYx9-faN5",
        "outputId": "259d74c9-500d-4abd-c83c-84f3162b733e"
      },
      "execution_count": 51,
      "outputs": [
        {
          "output_type": "stream",
          "name": "stdout",
          "text": [
            "1\n",
            "3\n",
            "5\n",
            "7\n",
            "9\n"
          ]
        }
      ]
    },
    {
      "cell_type": "code",
      "source": [
        "for i in 'Delhi':\n",
        "  print(i)"
      ],
      "metadata": {
        "colab": {
          "base_uri": "https://localhost:8080/"
        },
        "id": "yhU-Sa7BlnGX",
        "outputId": "ce80948f-b270-4279-86d2-60616b2a091d"
      },
      "execution_count": 52,
      "outputs": [
        {
          "output_type": "stream",
          "name": "stdout",
          "text": [
            "D\n",
            "e\n",
            "l\n",
            "h\n",
            "i\n"
          ]
        }
      ]
    },
    {
      "cell_type": "code",
      "source": [
        "for i in {1,2,3}:\n",
        "  print(i)"
      ],
      "metadata": {
        "colab": {
          "base_uri": "https://localhost:8080/"
        },
        "id": "9TMqkUWuluOL",
        "outputId": "bbd5a7c5-7f43-412f-c5e0-8c3760089990"
      },
      "execution_count": 53,
      "outputs": [
        {
          "output_type": "stream",
          "name": "stdout",
          "text": [
            "1\n",
            "2\n",
            "3\n"
          ]
        },
        {
          "output_type": "stream",
          "name": "stderr",
          "text": [
            "/usr/local/lib/python3.10/dist-packages/ipykernel/ipkernel.py:283: DeprecationWarning: `should_run_async` will not call `transform_cell` automatically in the future. Please pass the result to `transformed_cell` argument and any exception that happen during thetransform in `preprocessing_exc_tuple` in IPython 7.17 and above.\n"
          ]
        }
      ]
    },
    {
      "cell_type": "markdown",
      "source": [
        "#program -\n",
        "the current population of a town is 10000. the population of the town is increasing at the rate of 10%per year. You have to write a program to find out the population at the end of each of the last 10 years"
      ],
      "metadata": {
        "id": "XpDU22bol4Sq"
      }
    },
    {
      "cell_type": "code",
      "source": [
        "curr_pop= 10000\n",
        "for i in range(10,0,-1):\n",
        "  print(i,curr_pop)\n",
        "  curr_pop= curr_pop- 0.1*curr_pop"
      ],
      "metadata": {
        "colab": {
          "base_uri": "https://localhost:8080/"
        },
        "id": "UcNolucKmZ4x",
        "outputId": "5b126966-5a58-49dd-93b2-08b81b0c2b6b"
      },
      "execution_count": 54,
      "outputs": [
        {
          "output_type": "stream",
          "name": "stdout",
          "text": [
            "10 10000\n",
            "9 9000.0\n",
            "8 8100.0\n",
            "7 7290.0\n",
            "6 6561.0\n",
            "5 5904.9\n",
            "4 5314.41\n",
            "3 4782.969\n",
            "2 4304.6721\n",
            "1 3874.20489\n"
          ]
        }
      ]
    },
    {
      "cell_type": "code",
      "source": [],
      "metadata": {
        "id": "TU4rREqEmpsa"
      },
      "execution_count": null,
      "outputs": []
    },
    {
      "cell_type": "code",
      "source": [],
      "metadata": {
        "id": "jF8VIYSwl1yo"
      },
      "execution_count": null,
      "outputs": []
    }
  ]
}